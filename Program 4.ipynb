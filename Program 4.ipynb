{
 "cells": [
  {
   "cell_type": "code",
   "execution_count": 2,
   "id": "c4914209",
   "metadata": {},
   "outputs": [
    {
     "name": "stdout",
     "output_type": "stream",
     "text": [
      "WARNING:tensorflow:From C:\\Users\\91821\\Desktop\\TFProj\\tfvenv\\Lib\\site-packages\\keras\\src\\losses.py:2976: The name tf.losses.sparse_softmax_cross_entropy is deprecated. Please use tf.compat.v1.losses.sparse_softmax_cross_entropy instead.\n",
      "\n"
     ]
    }
   ],
   "source": [
    "import numpy as np \n",
    "import pandas as pd\n",
    "import keras\n",
    "import matplotlib.pyplot as plt\n",
    "%matplotlib inline\n",
    "import math, time\n",
    "import itertools\n",
    "from sklearn import preprocessing\n",
    "import datetime\n",
    "from operator import itemgetter\n",
    "from sklearn.preprocessing import MinMaxScaler\n",
    "from sklearn.metrics import mean_squared_error\n",
    "from math import sqrt\n",
    "from keras.models import Sequential\n",
    "from keras.layers import Dense, Dropout, Activation\n",
    "#from keras.layers.recurrent import LSTM\n",
    "from keras.layers import LSTM\n",
    "from keras.models import load_model\n",
    "\n",
    "import h5py\n",
    "import requests\n"
   ]
  },
  {
   "cell_type": "code",
   "execution_count": 3,
   "id": "c6a2d5f8",
   "metadata": {},
   "outputs": [],
   "source": [
    "data_df =pd.read_csv(\"prices-split-adjusted.csv\", index_col = 0)\n",
    "df2 = pd.read_csv(\"fundamentals.csv\")\n",
    "data_df = data_df[data_df.symbol == 'AAPL']\n"
   ]
  },
  {
   "cell_type": "code",
   "execution_count": 5,
   "id": "c731409c",
   "metadata": {},
   "outputs": [],
   "source": [
    "data_df.drop(['symbol'],axis=1,inplace=True)"
   ]
  },
  {
   "cell_type": "code",
   "execution_count": 6,
   "id": "2d789e7e",
   "metadata": {},
   "outputs": [
    {
     "data": {
      "text/html": [
       "<div>\n",
       "<style scoped>\n",
       "    .dataframe tbody tr th:only-of-type {\n",
       "        vertical-align: middle;\n",
       "    }\n",
       "\n",
       "    .dataframe tbody tr th {\n",
       "        vertical-align: top;\n",
       "    }\n",
       "\n",
       "    .dataframe thead th {\n",
       "        text-align: right;\n",
       "    }\n",
       "</style>\n",
       "<table border=\"1\" class=\"dataframe\">\n",
       "  <thead>\n",
       "    <tr style=\"text-align: right;\">\n",
       "      <th></th>\n",
       "      <th>open</th>\n",
       "      <th>close</th>\n",
       "      <th>low</th>\n",
       "      <th>high</th>\n",
       "      <th>volume</th>\n",
       "    </tr>\n",
       "    <tr>\n",
       "      <th>date</th>\n",
       "      <th></th>\n",
       "      <th></th>\n",
       "      <th></th>\n",
       "      <th></th>\n",
       "      <th></th>\n",
       "    </tr>\n",
       "  </thead>\n",
       "  <tbody>\n",
       "    <tr>\n",
       "      <th>2010-01-04</th>\n",
       "      <td>30.490000</td>\n",
       "      <td>30.572857</td>\n",
       "      <td>30.340000</td>\n",
       "      <td>30.642857</td>\n",
       "      <td>123432400.0</td>\n",
       "    </tr>\n",
       "    <tr>\n",
       "      <th>2010-01-05</th>\n",
       "      <td>30.657143</td>\n",
       "      <td>30.625713</td>\n",
       "      <td>30.464285</td>\n",
       "      <td>30.798571</td>\n",
       "      <td>150476200.0</td>\n",
       "    </tr>\n",
       "    <tr>\n",
       "      <th>2010-01-06</th>\n",
       "      <td>30.625713</td>\n",
       "      <td>30.138571</td>\n",
       "      <td>30.107143</td>\n",
       "      <td>30.747143</td>\n",
       "      <td>138040000.0</td>\n",
       "    </tr>\n",
       "    <tr>\n",
       "      <th>2010-01-07</th>\n",
       "      <td>30.250000</td>\n",
       "      <td>30.082857</td>\n",
       "      <td>29.864286</td>\n",
       "      <td>30.285715</td>\n",
       "      <td>119282800.0</td>\n",
       "    </tr>\n",
       "    <tr>\n",
       "      <th>2010-01-08</th>\n",
       "      <td>30.042856</td>\n",
       "      <td>30.282858</td>\n",
       "      <td>29.865715</td>\n",
       "      <td>30.285715</td>\n",
       "      <td>111902700.0</td>\n",
       "    </tr>\n",
       "  </tbody>\n",
       "</table>\n",
       "</div>"
      ],
      "text/plain": [
       "                 open      close        low       high       volume\n",
       "date                                                               \n",
       "2010-01-04  30.490000  30.572857  30.340000  30.642857  123432400.0\n",
       "2010-01-05  30.657143  30.625713  30.464285  30.798571  150476200.0\n",
       "2010-01-06  30.625713  30.138571  30.107143  30.747143  138040000.0\n",
       "2010-01-07  30.250000  30.082857  29.864286  30.285715  119282800.0\n",
       "2010-01-08  30.042856  30.282858  29.865715  30.285715  111902700.0"
      ]
     },
     "execution_count": 6,
     "metadata": {},
     "output_type": "execute_result"
    }
   ],
   "source": [
    "data_df.head()"
   ]
  },
  {
   "cell_type": "code",
   "execution_count": 7,
   "id": "85446df4",
   "metadata": {},
   "outputs": [
    {
     "data": {
      "text/plain": [
       "(1762, 5)"
      ]
     },
     "execution_count": 7,
     "metadata": {},
     "output_type": "execute_result"
    }
   ],
   "source": [
    "data_df.shape"
   ]
  },
  {
   "cell_type": "code",
   "execution_count": 9,
   "id": "1302007e",
   "metadata": {},
   "outputs": [
    {
     "data": {
      "image/png": "[encoded data removed]",
      "text/plain": [
       "<Figure size 640x480 with 1 Axes>"
      ]
     },
     "metadata": {},
     "output_type": "display_data"
    }
   ],
   "source": [
    "plt.plot(data_df['close'])\n",
    "plt.show()"
   ]
  },
  {
   "cell_type": "code",
   "execution_count": 10,
   "id": "d109deef",
   "metadata": {},
   "outputs": [
    {
     "data": {
      "text/plain": [
       "array([[0.02971784],\n",
       "       [0.03021854],\n",
       "       [0.02560389],\n",
       "       [0.02507612],\n",
       "       [0.0269707 ],\n",
       "       [0.02444008],\n",
       "       [0.02120576],\n",
       "       [0.02517085],\n",
       "       [0.02351986],\n",
       "       [0.0187834 ]])"
      ]
     },
     "execution_count": 10,
     "metadata": {},
     "output_type": "execute_result"
    }
   ],
   "source": [
    "data_df['date'] = data_df.index\n",
    "data_df['date'] = pd.to_datetime(data_df['date'])\n",
    "min_max_scaler = preprocessing.MinMaxScaler(feature_range=(0, 1))\n",
    "dataset = min_max_scaler.fit_transform(data_df['close'].values.reshape(-1, 1))\n",
    "dataset[0:10]\n"
   ]
  },
  {
   "cell_type": "code",
   "execution_count": 11,
   "id": "4072d5ff",
   "metadata": {},
   "outputs": [
    {
     "name": "stdout",
     "output_type": "stream",
     "text": [
      "1233 529\n",
      "1762\n",
      "1762\n"
     ]
    }
   ],
   "source": [
    "# split into train and test sets\n",
    "train_size = int(len(dataset) * 0.7)\n",
    "test_size = len(dataset) - train_size\n",
    "train,test=dataset[0:train_size,:], dataset[train_size:len(dataset),:]\n",
    "print(len(train), len(test))\n",
    "print(len(data_df))\n",
    "print(1233 + 529)\n"
   ]
  },
  {
   "cell_type": "code",
   "execution_count": 12,
   "id": "6b2d92ca",
   "metadata": {},
   "outputs": [],
   "source": [
    "#set the look back date as 15 days, which is the number of previous time steps to use as input variables #to predict the next time period\n",
    "# convert an array of values into a dataset matrix\n",
    "def create_dataset(dataset, look_back=15):\n",
    "    dataX, dataY = [], []\n",
    "    for i in range(len(dataset)-look_back-1):\n",
    "        a = dataset[i:(i+look_back), 0]\n",
    "        dataX.append(a)\n",
    "        dataY.append(dataset[i + look_back, 0])\n",
    "    return np.array(dataX), np.array(dataY)\n"
   ]
  },
  {
   "cell_type": "code",
   "execution_count": 13,
   "id": "cbcdc169",
   "metadata": {},
   "outputs": [
    {
     "name": "stdout",
     "output_type": "stream",
     "text": [
      "(1217, 15)\n",
      "(1217,)\n",
      "(513, 15)\n",
      "(513,)\n",
      "(1217, 1, 15)\n",
      "(1217,)\n",
      "(513, 1, 15)\n",
      "(513,)\n"
     ]
    }
   ],
   "source": [
    "x_train, y_train = create_dataset(train, look_back=15)\n",
    "x_test, y_test = create_dataset(test, look_back=15)\n",
    "print(x_train.shape)\n",
    "print(y_train.shape)\n",
    "print(x_test.shape)\n",
    "print(y_test.shape)\n",
    "x_train = np.reshape(x_train, (x_train.shape[0], 1, x_train.shape[1]))\n",
    "x_test = np.reshape(x_test, (x_test.shape[0], 1, x_test.shape[1]))\n",
    "print(x_train.shape)\n",
    "print(y_train.shape)\n",
    "print(x_test.shape)\n",
    "print(y_test.shape)\n"
   ]
  },
  {
   "cell_type": "code",
   "execution_count": 14,
   "id": "ea5707c9",
   "metadata": {},
   "outputs": [
    {
     "name": "stdout",
     "output_type": "stream",
     "text": [
      "WARNING:tensorflow:From C:\\Users\\91821\\Desktop\\TFProj\\tfvenv\\Lib\\site-packages\\keras\\src\\backend.py:873: The name tf.get_default_graph is deprecated. Please use tf.compat.v1.get_default_graph instead.\n",
      "\n",
      "WARNING:tensorflow:From C:\\Users\\91821\\Desktop\\TFProj\\tfvenv\\Lib\\site-packages\\keras\\src\\optimizers\\__init__.py:309: The name tf.train.Optimizer is deprecated. Please use tf.compat.v1.train.Optimizer instead.\n",
      "\n",
      "Epoch 1/20\n",
      "WARNING:tensorflow:From C:\\Users\\91821\\Desktop\\TFProj\\tfvenv\\Lib\\site-packages\\keras\\src\\utils\\tf_utils.py:492: The name tf.ragged.RaggedTensorValue is deprecated. Please use tf.compat.v1.ragged.RaggedTensorValue instead.\n",
      "\n",
      "1217/1217 - 5s - loss: 0.0058 - 5s/epoch - 4ms/step\n",
      "Epoch 2/20\n",
      "1217/1217 - 2s - loss: 6.6044e-04 - 2s/epoch - 2ms/step\n",
      "Epoch 3/20\n",
      "1217/1217 - 2s - loss: 4.8824e-04 - 2s/epoch - 2ms/step\n",
      "Epoch 4/20\n",
      "1217/1217 - 2s - loss: 4.2206e-04 - 2s/epoch - 2ms/step\n",
      "Epoch 5/20\n",
      "1217/1217 - 2s - loss: 3.8954e-04 - 2s/epoch - 2ms/step\n",
      "Epoch 6/20\n",
      "1217/1217 - 2s - loss: 3.7509e-04 - 2s/epoch - 2ms/step\n",
      "Epoch 7/20\n",
      "1217/1217 - 2s - loss: 3.3220e-04 - 2s/epoch - 2ms/step\n",
      "Epoch 8/20\n",
      "1217/1217 - 2s - loss: 3.3236e-04 - 2s/epoch - 2ms/step\n",
      "Epoch 9/20\n",
      "1217/1217 - 2s - loss: 2.9567e-04 - 2s/epoch - 2ms/step\n",
      "Epoch 10/20\n",
      "1217/1217 - 2s - loss: 2.7661e-04 - 2s/epoch - 2ms/step\n",
      "Epoch 11/20\n",
      "1217/1217 - 2s - loss: 3.0068e-04 - 2s/epoch - 2ms/step\n",
      "Epoch 12/20\n",
      "1217/1217 - 2s - loss: 2.5999e-04 - 2s/epoch - 2ms/step\n",
      "Epoch 13/20\n",
      "1217/1217 - 2s - loss: 2.5876e-04 - 2s/epoch - 2ms/step\n",
      "Epoch 14/20\n",
      "1217/1217 - 2s - loss: 2.4766e-04 - 2s/epoch - 2ms/step\n",
      "Epoch 15/20\n",
      "1217/1217 - 2s - loss: 2.3790e-04 - 2s/epoch - 2ms/step\n",
      "Epoch 16/20\n",
      "1217/1217 - 2s - loss: 2.3433e-04 - 2s/epoch - 2ms/step\n",
      "Epoch 17/20\n",
      "1217/1217 - 2s - loss: 2.2192e-04 - 2s/epoch - 2ms/step\n",
      "Epoch 18/20\n",
      "1217/1217 - 3s - loss: 2.2144e-04 - 3s/epoch - 2ms/step\n",
      "Epoch 19/20\n",
      "1217/1217 - 3s - loss: 2.2251e-04 - 3s/epoch - 2ms/step\n",
      "Epoch 20/20\n",
      "1217/1217 - 2s - loss: 2.2089e-04 - 2s/epoch - 2ms/step\n"
     ]
    },
    {
     "data": {
      "text/plain": [
       "<keras.src.callbacks.History at 0x162f06bf450>"
      ]
     },
     "execution_count": 14,
     "metadata": {},
     "output_type": "execute_result"
    }
   ],
   "source": [
    "# create and fit the LSTM network\n",
    "look_back = 15\n",
    "model = Sequential()\n",
    "model.add(LSTM(20, input_shape=(1, look_back)))\n",
    "model.add(Dense(1))\n",
    "model.compile(loss='mean_squared_error', optimizer='adam')\n",
    "model.fit(x_train, y_train, epochs=20, batch_size=1, verbose=2)\n",
    "\n"
   ]
  },
  {
   "cell_type": "code",
   "execution_count": 15,
   "id": "3bddf2f6",
   "metadata": {},
   "outputs": [
    {
     "name": "stdout",
     "output_type": "stream",
     "text": [
      "39/39 [==============================] - 1s 2ms/step\n",
      "17/17 [==============================] - 0s 2ms/step\n",
      "Train Score: 1.33 RMSE\n",
      "Test Score: 2.15 RMSE\n"
     ]
    }
   ],
   "source": [
    "trainPredict = model.predict(x_train)\n",
    "testPredict = model.predict(x_test)\n",
    "# invert predictions\n",
    "trainPredict = min_max_scaler.inverse_transform(trainPredict)\n",
    "trainY = min_max_scaler.inverse_transform([y_train])\n",
    "testPredict = min_max_scaler.inverse_transform(testPredict)\n",
    "testY = min_max_scaler.inverse_transform([y_test])\n",
    "# calculate root mean squared error\n",
    "trainScore = math.sqrt(mean_squared_error(trainY[0], trainPredict[:,0]))\n",
    "print('Train Score: %.2f RMSE' % (trainScore))\n",
    "testScore = math.sqrt(mean_squared_error(testY[0], testPredict[:,0]))\n",
    "print('Test Score: %.2f RMSE' % (testScore))\n"
   ]
  },
  {
   "cell_type": "code",
   "execution_count": 16,
   "id": "270cbf52",
   "metadata": {},
   "outputs": [
    {
     "data": {
      "image/png": "[encoded data removed]",
      "text/plain": [
       "<Figure size 640x480 with 1 Axes>"
      ]
     },
     "metadata": {},
     "output_type": "display_data"
    }
   ],
   "source": [
    "# shift train predictions for plotting\n",
    "trainPredictPlot = np.empty_like(dataset)\n",
    "trainPredictPlot[:, :] = np.nan\n",
    "trainPredictPlot[look_back:len(trainPredict)+look_back, :] = trainPredict\n",
    "# shift test predictions for plotting\n",
    "testPredictPlot = np.empty_like(dataset)\n",
    "testPredictPlot[:, :] = np.nan\n",
    "testPredictPlot[len(trainPredict)+(look_back*2)+1:len(dataset)-1, :] = testPredict\n",
    "# plot baseline and predictions\n",
    "plt.plot(min_max_scaler.inverse_transform(dataset))\n",
    "plt.plot(trainPredictPlot)\n",
    "plt.plot(testPredictPlot)\n",
    "plt.show()\n"
   ]
  }
 ],
 "metadata": {
  "kernelspec": {
   "display_name": "tfkernel",
   "language": "python",
   "name": "tfkernel"
  },
  "language_info": {
   "codemirror_mode": {
    "name": "ipython",
    "version": 3
   },
   "file_extension": ".py",
   "mimetype": "text/x-python",
   "name": "python",
   "nbconvert_exporter": "python",
   "pygments_lexer": "ipython3",
   "version": "3.11.5"
  }
 },
 "nbformat": 4,
 "nbformat_minor": 5
}
