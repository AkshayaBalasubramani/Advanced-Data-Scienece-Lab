{
 "cells": [
  {
   "cell_type": "code",
   "execution_count": 1,
   "id": "12b02448",
   "metadata": {},
   "outputs": [],
   "source": [
    "import threading"
   ]
  },
  {
   "cell_type": "code",
   "execution_count": 2,
   "id": "dd34de70",
   "metadata": {},
   "outputs": [],
   "source": [
    "def mapper(words):\n",
    "    word_count = {}\n",
    "    for word in words:\n",
    "        if word in word_count:\n",
    "            word_count[word] += 1\n",
    "        else:\n",
    "            word_count[word] = 1\n",
    "    return word_count.items()"
   ]
  },
  {
   "cell_type": "code",
   "execution_count": 3,
   "id": "ebc4fc05",
   "metadata": {},
   "outputs": [],
   "source": [
    "def reducer(word, counts):\n",
    "    return (word, sum(counts))"
   ]
  },
  {
   "cell_type": "code",
   "execution_count": 4,
   "id": "53e08178",
   "metadata": {},
   "outputs": [],
   "source": [
    "def map_reduce(words):\n",
    "    # Split the input text into individual words\n",
    "    words = words.split()\n",
    "    # Map the words to key-value pairs\n",
    "    mapped_pairs = []\n",
    "    for pair in mapper(words):\n",
    "        mapped_pairs.append(pair)\n",
    "    # Shuffle the intermediate key-value pairs\n",
    "    shuffled_pairs = {}\n",
    "    for pair in mapped_pairs:\n",
    "        if pair[0] in shuffled_pairs:\n",
    "            shuffled_pairs[pair[0]].append(pair[1])\n",
    "        else:\n",
    "            shuffled_pairs[pair[0]] = [pair[1]]\n",
    "    # Reduce the shuffled key-value pairs\n",
    "    reduced_pairs = []\n",
    "    for key, value in shuffled_pairs.items():\n",
    "        reduced_pairs.append(reducer(key, value))\n",
    "    return reduced_pairs"
   ]
  },
  {
   "cell_type": "code",
   "execution_count": 5,
   "id": "7942d5d7",
   "metadata": {},
   "outputs": [
    {
     "name": "stdout",
     "output_type": "stream",
     "text": [
      "('My', 1)\n",
      "('name', 1)\n",
      "('is', 3)\n",
      "('ABC', 4)\n",
      "('and', 1)\n",
      "('I', 2)\n",
      "('am', 2)\n",
      "('the', 2)\n",
      "('best.', 2)\n",
      "('very', 1)\n",
      "('fast', 1)\n",
      "('in', 1)\n",
      "('learning', 1)\n",
      "('Akshaya', 1)\n"
     ]
    }
   ],
   "source": [
    "def main():\n",
    "    # Read the input text from file\n",
    "    with open('input.txt', 'r') as f:\n",
    "        words = f.read()\n",
    "    # Call the MapReduce function\n",
    "    result = map_reduce(words)\n",
    "    # Print the output\n",
    "    for pair in result:\n",
    "        print(pair)\n",
    "if __name__ == '__main__':\n",
    "    main()"
   ]
  },
  {
   "cell_type": "code",
   "execution_count": null,
   "id": "e0b79e67",
   "metadata": {},
   "outputs": [],
   "source": []
  }
 ],
 "metadata": {
  "kernelspec": {
   "display_name": "Python 3",
   "language": "python",
   "name": "python3"
  },
  "language_info": {
   "codemirror_mode": {
    "name": "ipython",
    "version": 3
   },
   "file_extension": ".py",
   "mimetype": "text/x-python",
   "name": "python",
   "nbconvert_exporter": "python",
   "pygments_lexer": "ipython3",
   "version": "3.11.5"
  }
 },
 "nbformat": 4,
 "nbformat_minor": 5
}
